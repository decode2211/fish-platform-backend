{
 "cells": [
  {
   "cell_type": "code",
   "execution_count": 1,
   "id": "0478e55c-56c6-43f6-be26-3f042d494f95",
   "metadata": {},
   "outputs": [
    {
     "name": "stdout",
     "output_type": "stream",
     "text": [
      "Original shape: (1167, 133)\n",
      "Cleaned shape: (1167, 89)\n"
     ]
    }
   ],
   "source": [
    "import pandas as pd\n",
    "\n",
    "# Load dataset\n",
    "df = pd.read_csv(\"IndianOcean_2019_species_occurrence.csv\")\n",
    "\n",
    "# List of columns to drop (from above analysis)\n",
    "drop_cols = [\n",
    "    \"institutionCode\",\"ownerInstitutionCode\",\"collectionCode\",\"collectionID\",\n",
    "    \"datasetID\",\"dataset_id\",\"datasetName\",\"institutionID\",\"node_id\",\"id\",\n",
    "    \"recordNumber\",\"recordedBy\",\"identifiedBy\",\"eventID\",\"identificationID\",\n",
    "    \"disposition\",\"preparations\",\"previousIdentifications\",\"associatedReferences\",\n",
    "    \"bibliographicCitation\",\"references\",\"gigaclass\",\"gigaclassid\",\"infraphylum\",\n",
    "    \"infraphylumid\",\"parvphylum\",\"parvphylumid\",\"subphylum\",\"subphylumid\",\n",
    "    \"superclass\",\"superclassid\",\"subfamily\",\"subfamilyid\",\"absence\",\"dropped\",\n",
    "    \"flags\",\"verbatimCoordinates\",\"verbatimLatitude\",\"verbatimLongitude\",\n",
    "    \"verbatimSRS\",\"verbatimCoordinateSystem\",\"license\",\"accessRights\",\n",
    "    \"rightsHolder\"\n",
    "]\n",
    "\n",
    "# Drop unnecessary columns\n",
    "df_clean = df.drop(columns=[col for col in drop_cols if col in df.columns])\n",
    "\n",
    "# Save cleaned dataset\n",
    "df_clean.to_csv(\"biodiversity_clean.csv\", index=False)\n",
    "\n",
    "print(\"Original shape:\", df.shape)\n",
    "print(\"Cleaned shape:\", df_clean.shape)\n"
   ]
  },
  {
   "cell_type": "code",
   "execution_count": null,
   "id": "46708f1c-75a7-4b4c-9fce-a323f5482d47",
   "metadata": {},
   "outputs": [],
   "source": []
  }
 ],
 "metadata": {
  "kernelspec": {
   "display_name": "Python 3 (ipykernel)",
   "language": "python",
   "name": "python3"
  },
  "language_info": {
   "codemirror_mode": {
    "name": "ipython",
    "version": 3
   },
   "file_extension": ".py",
   "mimetype": "text/x-python",
   "name": "python",
   "nbconvert_exporter": "python",
   "pygments_lexer": "ipython3",
   "version": "3.11.0"
  }
 },
 "nbformat": 4,
 "nbformat_minor": 5
}
